{
 "cells": [
  {
   "cell_type": "markdown",
   "metadata": {},
   "source": [
    "# Data Profiling using Apache Spark\n",
    "\n",
    "##### _\"To ingest data with quality from external sources is really challenging, particularly when you’re not aware of how the data looks like or are ambiguous about its contents. That’s where the data profiling comes in. You can use data profiling to get insights on the data source and figure out how the data looks like.\"_\n",
    "\n",
    "## What is Data Profiling?\n",
    "Data Profiling is the process of running analysis on source data to understand it’s structure and content. You can get following insights by doing data profiling on a new dataset:\n",
    "* __Structure Discovery:__ No of columns and their names in the source data\n",
    "* __Content Discovery:__ Data types of the columns, Identify Nullable columns\n",
    "* __Cardinality of Data:__ Number of Distinct Values in each column\n",
    "* __Statistical Analysis:__ Min / Max / Mean / Std Dev of numerical columns\n",
    "* __Value Histograms:__ Frequency of values in low-cardinality columns\n",
    "\n",
    "\n",
    "<br></br>\n",
    "This notebook follow the Sajjad Sarwar implementation of deequ <br>\n",
    "https://medium.com/@sajjadsarwar1/data-profiling-using-spark-deequ-46ad8dbe3ed1\n",
    "\n",
    "This notebook was created by Bruno Nogueira Renzo <br>\n",
    "bruno.nog@hotmail.com\n"
   ]
  },
  {
   "cell_type": "markdown",
   "metadata": {},
   "source": [
    "## Amazon Deequ \n",
    "\n",
    "This notebook uses a a Spark library, named Deequ, an open source tool developed and used at Amazon. Deequ allows you to calculate data quality metrics on your dataset, define and verify data quality constraints, and be informed about changes in the data distribution.\n",
    "\n",
    "https://aws.amazon.com/blogs/big-data/test-data-quality-at-scale-with-deequ/\n",
    "\n"
   ]
  },
  {
   "cell_type": "code",
   "execution_count": 1,
   "metadata": {},
   "outputs": [
    {
     "data": {
      "text/plain": [
       "org.apache.spark.sql.SparkSession@1f562227"
      ]
     },
     "execution_count": 1,
     "metadata": {},
     "output_type": "execute_result"
    }
   ],
   "source": [
    "spark"
   ]
  },
  {
   "cell_type": "code",
   "execution_count": 29,
   "metadata": {},
   "outputs": [
    {
     "name": "stdout",
     "output_type": "stream",
     "text": [
      "Available line magics:\n",
      "%lsmagic %showtypes %showoutput %adddeps %truncation %addjar\n",
      "\n",
      "Available cell magics:\n",
      "%%sql %%html %%javascript %%dataframe %%scala\n",
      "\n",
      "Type %<magic_name> for usage info.\n",
      "         \n",
      "Marking com.amazon.deequ:deequ:1.0.5 for download\n",
      "Obtained 2 files\n"
     ]
    }
   ],
   "source": [
    "//Creating a magic in Apache-Toree\n",
    "//https://github.com/apache/incubator-toree/blob/master/etc/examples/notebooks/magic-tutorial.ipynb\n",
    "\n",
    "//LsMagic - lists all the available magics. - %LsMagic\n",
    "%LsMagic\n",
    "//DATAFRAME - Converts a Spark SQL DataFrame into various formats. - %%dataframe\n",
    "//SparkSQL - Allows for SQL queries to be performed against tables saved in spark. -%%SQL\n",
    "\n",
    "//AddDeps - Add dependencies from a maven repository. - %AddDeps\n",
    "%AddDeps com.amazon.deequ deequ 1.0.5"
   ]
  },
  {
   "cell_type": "code",
   "execution_count": 3,
   "metadata": {},
   "outputs": [],
   "source": [
    "import com.amazon.deequ.profiles.{ColumnProfilerRunner, NumericColumnProfile}\n",
    "import com.amazon.deequ.suggestions.{ConstraintSuggestionRunner, Rules}"
   ]
  },
  {
   "cell_type": "code",
   "execution_count": 4,
   "metadata": {},
   "outputs": [
    {
     "data": {
      "text/plain": [
       "inputDataPaths = hdfs:///user/willporto/bruno/data/weather.csv\n"
      ]
     },
     "metadata": {},
     "output_type": "display_data",
     "source": "user"
    },
    {
     "data": {
      "text/plain": [
       "hdfs:///user/willporto/bruno/data/weather.csv"
      ]
     },
     "execution_count": 4,
     "metadata": {},
     "output_type": "execute_result"
    }
   ],
   "source": [
    "val inputDataPaths = \"hdfs:///user/willporto/bruno/data/weather.csv\""
   ]
  },
  {
   "cell_type": "code",
   "execution_count": 12,
   "metadata": {},
   "outputs": [
    {
     "data": {
      "text/plain": [
       "Array((spark.history.kerberos.keytab,none), (spark.eventLog.enabled,true), (spark.dynamicAllocation.initialExecutors,2), (spark.repl.class.outputDir,/tmp/spark-09203711-2172-4ff7-9002-0a8d9a6fb407/repl-a9afd631-bb78-4801-931e-e78c815ae74e), (spark.shuffle.service.enabled,true), (spark.history.ui.port,18081), (spark.dynamicAllocation.maxExecutors,10), (spark.driver.extraLibraryPath,/usr/hdp/current/hadoop-client/lib/native:/usr/hdp/current/hadoop-client/lib/native/Linux-amd64-64), (spark.yarn.queue,default), (spark.executor.id,driver), (spark.jars,file:/usr/local/share/jupyter/kernels/apache_toree_scala/lib/toree-assembly-0.3.0-incubating.jar), (spark.app.name,Apache Toree), (spark.driver.host,gw03.itversity.com), (spark.executor.extraLibraryPath,/usr/hdp..."
      ]
     },
     "execution_count": 12,
     "metadata": {},
     "output_type": "execute_result"
    }
   ],
   "source": [
    "// Initiallizing config & importing classes\n",
    "//spark.conf.set(\"spark.default.parallelism\",20)\n",
    "//spark.conf.set(\"spark.sql.shuffle.partitions\",20)\n",
    "\n",
    "spark.sparkContext.getConf.getAll"
   ]
  },
  {
   "cell_type": "markdown",
   "metadata": {},
   "source": [
    "## Importing Sample Dataset\n",
    "\n",
    "We’ll use a sample CSV file for weather data downloaded from a Kaggle <br>\n",
    "Walmart Recruiting II: Sales in Stormy Weather"
   ]
  },
  {
   "cell_type": "code",
   "execution_count": 16,
   "metadata": {},
   "outputs": [
    {
     "name": "stdout",
     "output_type": "stream",
     "text": [
      "Total Rows: 20206\n",
      "Distinct Rows: 20206\n"
     ]
    },
    {
     "data": {
      "text/plain": [
       "df = [station_nbr: string, date: string ... 18 more fields]\n"
      ]
     },
     "metadata": {},
     "output_type": "display_data",
     "source": "user"
    },
    {
     "data": {
      "text/plain": [
       "[station_nbr: string, date: string ... 18 more fields]"
      ]
     },
     "execution_count": 16,
     "metadata": {},
     "output_type": "execute_result"
    }
   ],
   "source": [
    "import org.apache.spark.sql.{Column, DataFrame}\n",
    "import org.apache.spark.sql.functions._\n",
    "\n",
    "val df = spark.read.format(\"csv\")\n",
    "  .option(\"sep\", \",\")\n",
    "  .option(\"inferSchema\", \"false\")\n",
    "  .option(\"header\", \"true\")\n",
    "  .load(inputDataPaths)\n",
    "  .filter(\"snowfall not like '%T%'\")\n",
    "  .withColumn(\"tmax\", when(col(\"tmax\").equalTo(\"M\"), null).otherwise(col(\"tmax\")))\n",
    "  .withColumn(\"tmin\", when(col(\"tmax\").equalTo(\"M\"), null).otherwise(col(\"tmax\")))\n",
    "  .withColumn(\"tavg\", when(col(\"tmax\").equalTo(\"M\"), null).otherwise(col(\"tmax\")))\n",
    "  .withColumn(\"snowfall\", when(col(\"snowfall\").equalTo(\"T\"), 0.1).otherwise(col(\"snowfall\")));\n",
    "\n",
    "\n",
    "\n",
    "println(\"Total Rows: \" + df.count())\n",
    "println(\"Distinct Rows: \" + df.dropDuplicates.count)"
   ]
  },
  {
   "cell_type": "code",
   "execution_count": 28,
   "metadata": {},
   "outputs": [
    {
     "data": {
      "text/html": [
       "<table><tr><th>station_nbr</th><th>date</th><th>tmax</th><th>tmin</th><th>tavg</th><th>depart</th><th>dewpoint</th><th>wetbulb</th><th>heat</th><th>cool</th><th>sunrise</th><th>sunset</th><th>codesum</th><th>snowfall</th><th>preciptotal</th><th>stnpressure</th><th>sealevel</th><th>resultspeed</th><th>resultdir</th><th>avgspeed</th></tr><tr><td>1</td><td>2012-01-01</td><td>52</td><td>52</td><td>52</td><td>M</td><td>36</td><td>40</td><td>23</td><td> 0</td><td>-</td><td>-</td><td>RA FZFG BR</td><td>M</td><td>0.05</td><td>29.78</td><td>29.92</td><td> 3.6</td><td>20</td><td>4.6</td></tr><tr><td>2</td><td>2012-01-01</td><td>48</td><td>48</td><td>48</td><td>16</td><td>37</td><td>39</td><td>24</td><td> 0</td><td>0716</td><td>1626</td><td>RA</td><td>0.0</td><td>0.07</td><td>28.82</td><td>29.91</td><td> 9.1</td><td>23</td><td>11.3</td></tr><tr><td>3</td><td>2012-01-01</td><td>55</td><td>55</td><td>55</td><td> 9</td><td>24</td><td>36</td><td>20</td><td> 0</td><td>0735</td><td>1720</td><td> </td><td>0.0</td><td>0.00</td><td>29.77</td><td>30.47</td><td> 9.9</td><td>31</td><td>10.0</td></tr><tr><td>4</td><td>2012-01-01</td><td>63</td><td>63</td><td>63</td><td> 4</td><td>28</td><td>43</td><td>10</td><td> 0</td><td>0728</td><td>1742</td><td> </td><td>0.0</td><td>0.00</td><td>29.79</td><td>30.48</td><td> 8.0</td><td>35</td><td>8.2</td></tr><tr><td>6</td><td>2012-01-01</td><td>63</td><td>63</td><td>63</td><td> 0</td><td>31</td><td>43</td><td>16</td><td> 0</td><td>0727</td><td>1742</td><td> </td><td>0.0</td><td>0.00</td><td>29.95</td><td>30.47</td><td>14.0</td><td>36</td><td>13.8</td></tr></table>"
      ]
     },
     "execution_count": 28,
     "metadata": {},
     "output_type": "execute_result"
    }
   ],
   "source": [
    "%%dataframe\n",
    "df.limit(5)"
   ]
  },
  {
   "cell_type": "markdown",
   "metadata": {},
   "source": [
    "## Running the Data Profiler "
   ]
  },
  {
   "cell_type": "code",
   "execution_count": 30,
   "metadata": {},
   "outputs": [
    {
     "data": {
      "text/plain": [
       "result = ColumnProfiles(Map(tmax -> NumericColumnProfile(tmax,0.9552113233692963,124,Integral,true,Map(Boolean -> 0, Fractional -> 0, Integral -> 19301, Unknown -> 905, String -> 0),None,None,Some(72.15102844412206),Some(114.0),Some(-11.0),Some(1392587.0),Some(19.475529292818884),None), dewpoint -> StandardColumnProfile(dewpoint,1.0,98,String,true,Map(Boolean -> 0, Fractional -> 0, Integral -> 19543, Unknown -> 0, String -> 663),Some(Distribution(Map(45 -> DistributionValue(253,0.012521033356428783), 34 -> DistributionValue(232,0.011481738097594774), 67 -> DistributionValue(505,0.0249925764624369), -19 -> DistributionValue(2,9.898050084133426E-5), -10 -> DistributionValue(5,2.4745125210333564E-4), 12 -> DistributionValue(103,0.005097495793328714...\n"
      ]
     },
     "metadata": {},
     "output_type": "display_data",
     "source": "user"
    },
    {
     "data": {
      "text/plain": [
       "ColumnProfiles(Map(tmax -> NumericColumnProfile(tmax,0.9552113233692963,124,Integral,true,Map(Boolean -> 0, Fractional -> 0, Integral -> 19301, Unknown -> 905, String -> 0),None,None,Some(72.15102844412206),Some(114.0),Some(-11.0),Some(1392587.0),Some(19.475529292818884),None), dewpoint -> StandardColumnProfile(dewpoint,1.0,98,String,true,Map(Boolean -> 0, Fractional -> 0, Integral -> 19543, Unknown -> 0, String -> 663),Some(Distribution(Map(45 -> DistributionValue(253,0.012521033356428783), 34 -> DistributionValue(232,0.011481738097594774), 67 -> DistributionValue(505,0.0249925764624369), -19 -> DistributionValue(2,9.898050084133426E-5), -10 -> DistributionValue(5,2.4745125210333564E-4), 12 -> DistributionValue(103,0.005097495793328714..."
      ]
     },
     "execution_count": 30,
     "metadata": {},
     "output_type": "execute_result"
    }
   ],
   "source": [
    "// Run column profiler\n",
    "\n",
    "val result = ColumnProfilerRunner()\n",
    "  .onData(df)\n",
    "  .run()"
   ]
  },
  {
   "cell_type": "markdown",
   "metadata": {},
   "source": [
    "## Print Columns Profile"
   ]
  },
  {
   "cell_type": "code",
   "execution_count": 34,
   "metadata": {},
   "outputs": [
    {
     "data": {
      "text/plain": [
       "profileArray = List((tmax,0.9552113233692963,124,Integral,-11.0 / 114.0 / 72.15102844412206 / 19.475529292818884), (dewpoint,1.0,98,String,\"\"), (avgspeed,1.0,265,String,\"\"), (resultdir,1.0,38,String,\"\"), (resultspeed,1.0,264,String,\"\"), (stnpressure,1.0,333,String,\"\"), (snowfall,1.0,79,String,\"\"), (codesum,1.0,438,String,\"\"), (sealevel,1.0,157,String,\"\"), (date,1.0,1017,String,\"\"), (cool,1.0,38,String,\"\"), (sunrise,1.0,226,Integral,406.0 / 740.0 / 583.2591089295828 / 90.79831774323632), (depart,1.0,64,String,\"\"), (sunset,1.0,228,Integral,1611.0 / 1949.0 / 1825.806116669813 / 91.0557981088056), (heat,1.0,78,String,\"\"), (wetbulb,1.0,93,String,\"\"), (tavg,0.9552113233692963,124,Integral,-11.0 / 114.0 / 72.15102844412206 / 19.475529292818884), (pre...\n"
      ]
     },
     "metadata": {},
     "output_type": "display_data",
     "source": "user"
    },
    {
     "data": {
      "text/plain": [
       "List((tmax,0.9552113233692963,124,Integral,-11.0 / 114.0 / 72.15102844412206 / 19.475529292818884), (dewpoint,1.0,98,String,\"\"), (avgspeed,1.0,265,String,\"\"), (resultdir,1.0,38,String,\"\"), (resultspeed,1.0,264,String,\"\"), (stnpressure,1.0,333,String,\"\"), (snowfall,1.0,79,String,\"\"), (codesum,1.0,438,String,\"\"), (sealevel,1.0,157,String,\"\"), (date,1.0,1017,String,\"\"), (cool,1.0,38,String,\"\"), (sunrise,1.0,226,Integral,406.0 / 740.0 / 583.2591089295828 / 90.79831774323632), (depart,1.0,64,String,\"\"), (sunset,1.0,228,Integral,1611.0 / 1949.0 / 1825.806116669813 / 91.0557981088056), (heat,1.0,78,String,\"\"), (wetbulb,1.0,93,String,\"\"), (tavg,0.9552113233692963,124,Integral,-11.0 / 114.0 / 72.15102844412206 / 19.475529292818884), (pre..."
      ]
     },
     "execution_count": 34,
     "metadata": {},
     "output_type": "execute_result"
    }
   ],
   "source": [
    "// Print Columns Profile\n",
    "\n",
    "var profileArray =  Seq[(String, String, Int, String, String)]()\n",
    "\n",
    "result.profiles.foreach { case (columnName, profile) =>\n",
    "\n",
    "  val completeness = profile.completeness.toString\n",
    "  ;\n",
    "  val approximateNumDistinctValues = profile.approximateNumDistinctValues.toString\n",
    "  val dataType = profile.dataType.toString\n",
    "  var stats = \"\"\n",
    "\n",
    "    if(profile.dataType.toString.equalsIgnoreCase(\"Integral\") || profile.dataType.toString.equalsIgnoreCase(\"Fractional\")){\n",
    "      val numericProfile = result.profiles(columnName).asInstanceOf[NumericColumnProfile]\n",
    "      val minVal = numericProfile.minimum.get.toString\n",
    "      val maxVal = numericProfile.maximum.get.toString\n",
    "      val meanVal = numericProfile.mean.get.toString\n",
    "      val stdVal = numericProfile.stdDev.get.toString\n",
    "      stats = minVal+\" / \"+maxVal+\" / \"+meanVal+\" / \"+stdVal\n",
    "    }\n",
    "  profileArray :+= (s\"$columnName\",completeness, approximateNumDistinctValues.toInt, dataType, stats)\n",
    "}\n",
    "\n",
    "\n",
    "val profileDf = profileArray.toDF(\"Column Name\", \"Completeness\", \"Approx Distinct Values\", \"Data Type\", \"Stats (Min / Max / Mean / Std Dev)\")\n"
   ]
  },
  {
   "cell_type": "code",
   "execution_count": 35,
   "metadata": {},
   "outputs": [
    {
     "data": {
      "text/html": [
       "<table><tr><th>Column Name</th><th>Completeness</th><th>Approx Distinct Values</th><th>Data Type</th><th>Stats (Min / Max / Mean / Std Dev)</th></tr><tr><td>station_nbr</td><td>1.0</td><td>20</td><td>Integral</td><td>1.0 / 20.0 / 10.543551420370187 / 5.747125833616759</td></tr><tr><td>resultdir</td><td>1.0</td><td>38</td><td>String</td><td></td></tr><tr><td>cool</td><td>1.0</td><td>38</td><td>String</td><td></td></tr><tr><td>depart</td><td>1.0</td><td>64</td><td>String</td><td></td></tr><tr><td>heat</td><td>1.0</td><td>78</td><td>String</td><td></td></tr><tr><td>snowfall</td><td>1.0</td><td>79</td><td>String</td><td></td></tr><tr><td>wetbulb</td><td>1.0</td><td>93</td><td>String</td><td></td></tr><tr><td>dewpoint</td><td>1.0</td><td>98</td><td>String</td><td></td></tr><tr><td>tmax</td><td>0.9552113233692963</td><td>124</td><td>Integral</td><td>-11.0 / 114.0 / 72.15102844412206 / 19.475529292818884</td></tr><tr><td>tavg</td><td>0.9552113233692963</td><td>124</td><td>Integral</td><td>-11.0 / 114.0 / 72.15102844412206 / 19.475529292818884</td></tr></table>"
      ]
     },
     "execution_count": 35,
     "metadata": {},
     "output_type": "execute_result"
    }
   ],
   "source": [
    "%%dataframe\n",
    "profileDf.orderBy(asc(\"Approx Distinct Values\")).limit(1000)"
   ]
  },
  {
   "cell_type": "markdown",
   "metadata": {},
   "source": [
    "## Automated Constraint Suggestion\n",
    "If you own a large number of datasets or if your dataset has many columns, it may be challenging for you to manually define appropriate constraints. Deequ can automatically suggest useful constraints based on the data distribution. Deequ first runs a data profiling method and then applies a set of rules on the result. For more information about how to run a data profiling method"
   ]
  },
  {
   "cell_type": "code",
   "execution_count": 36,
   "metadata": {},
   "outputs": [
    {
     "name": "stdout",
     "output_type": "stream",
     "text": [
      "# 'tmax' has less than 5% missing values\n",
      "# 'tmax' has type Integral\n",
      "# 'dewpoint' is not null\n",
      "# 'dewpoint' has value range 'M', '68', '69', '65', '66', '67', '63', '64', '70', '71', '72', '59', '62', '61', '60', '55', '56', '58', '54', '73', '52', '57', '51', '50', '46', '53', '48', '49', '33', '47', '29', '43', '28', '44', '40', '45', '27', '37', '39', '42', '31', '26', '38', '36', '41', '34', '25', '30', '22', '35', '32', '24', '74', '23', '21', '20', '17', '18', '19', '16', '75', '15', '12', '11', '14', '13', '10', '9', '7', '0', '8', '4', '6', '3', '2', '5', '1', '-3', '-1', '76', '-5', '-2', '-7', '-6', '-4', '-8', '-9', '-11', '-12', '-13', '-10', '-14', '-15', '77', '-19', '-17', '-24', '-16'\n",
      "# 'dewpoint' has value range 'M', '68', '69', '65', '66', '67', '63', '64', '70', '71', '72', '59', '62', '61', '60', '55', '56', '58', '54', '73', '52', '57', '51', '50', '46', '53', '48', '49', '33', '47', '29', '43', '28', '44', '40', '45', '27', '37', '39', '42', '31', '26', '38', '36', '41', '34', '25', '30', '22', '35', '32', '24', '74', '23', '21', '20' for at least 90.0% of values\n",
      "# 'avgspeed' is not null\n",
      "# 'resultdir' is not null\n",
      "# 'resultdir' has value range '17', '18', '16', '15', '19', '14', '01', '20', '36', '02', 'M', '21', '31', '35', '13', '30', '32', '22', '03', '28', '23', '33', '34', '29', '12', '05', '04', '24', '27', '25', '11', '26', '07', '06', '10', '09', '08'\n",
      "# 'resultdir' has value range '17', '18', '16', '15', '19', '14', '01', '20', '36', '02', 'M', '21', '31', '35', '13', '30', '32', '22', '03', '28', '23', '33', '34', '29', '12', '05', '04', '24', '27', '25', '11' for at least 90.0% of values\n",
      "# 'resultspeed' is not null\n",
      "# 'stnpressure' is not null\n",
      "# 'snowfall' is not null\n",
      "# 'codesum' is not null\n",
      "# 'sealevel' is not null\n",
      "# 'date' is not null\n",
      "# 'cool' is not null\n",
      "# 'cool' has value range ' 0', 'M', '18', '16', '17', '14', ' 8', ' 7', ' 4', '15', ' 6', ' 3', ' 5', '10', ' 2', ' 9', '19', ' 1', '13', '11', '12', '20', '21', '22', '23', '24', '25', '26', '27', '28', '29', '30', '31', '34', '32', '33', '35'\n",
      "# 'cool' has value range ' 0', 'M', '18', '16', '17', '14', ' 8', ' 7', ' 4', '15', ' 6', ' 3', ' 5', '10', ' 2', ' 9', '19', ' 1', '13', '11' for at least 89.0% of values\n",
      "# 'sunrise' is not null\n",
      "# 'sunrise' has type Integral\n",
      "# 'sunrise' has no negative values\n",
      "# 'depart' is not null\n",
      "# 'depart' has value range 'M', ' 3', ' 4', ' 1', ' 2', ' 0', '-2', '-1', ' 5', '-3', ' 6', '-4', ' 8', ' 7', '-5', '-6', ' 9', '10', '-7' for at least 90.0% of values\n",
      "# 'sunset' is not null\n",
      "# 'sunset' has type Integral\n",
      "# 'sunset' has no negative values\n",
      "# 'heat' is not null\n",
      "# 'heat' has value range '0', 'M', '1', '2', '8', '12', '7', '10', '4', '3', '5', '11', '9', '6', '14', '20', '16', '17', '13', '15', '19', '18', '22', '23', '25', '21', '24', '27', '28', '26', '30', '31', '29', '33', '34', '32', '36', '38', '35', '37', '39', '40', '41', '43', '45', '44', '46', '47', '42', '48', '49', '53', '50', '52', '54', '51', '55', '58', '57', '60', '56', '59', '65', '61', '68', '62', '63', '69', '70', '64', '67', '75', '71', '72', '66', '81'\n",
      "# 'heat' has value range '0', 'M', '1', '2', '8', '12', '7', '10', '4', '3', '5', '11', '9', '6', '14', '20', '16', '17', '13', '15', '19', '18', '22', '23', '25', '21', '24', '27', '28', '26', '30' for at least 89.0% of values\n",
      "# 'wetbulb' is not null\n",
      "# 'wetbulb' has value range 'M', '74', '75', '73', '72', '71', '70', '67', '65', '64', '62', '68', '66', '63', '60', '61', '59', '58', '69', '56', '76', '55', '57', '52', '54', '53', '44', '45', '50', '51', '48', '49', '46', '47', '43', '41', '38', '37', '39', '40', '42', '34', '36', '35', '33', '31', '32', '77', '28', '29', '30', '27', '26', '24', '23', '25', '21', '78', '22', '20', '18', '19', '14', '17', '15', '16', '12', '10', '13', '11', '8', '79', '4', '7', '9', '0', '3', '5', '6', '-3', '2', '1', '-4', '-5', '-2', '-6', '-7', '-1', '-9', '80', '-8', '-15', '-10'\n",
      "# 'wetbulb' has value range 'M', '74', '75', '73', '72', '71', '70', '67', '65', '64', '62', '68', '66', '63', '60', '61', '59', '58', '69', '56', '76', '55', '57', '52', '54', '53', '44', '45', '50', '51', '48', '49', '46', '47', '43', '41', '38', '37', '39', '40', '42', '34', '36', '35', '33', '31', '32', '77' for at least 89.0% of values\n",
      "# 'tavg' has less than 5% missing values\n",
      "# 'tavg' has type Integral\n",
      "# 'preciptotal' is not null\n",
      "# 'station_nbr' is not null\n",
      "# 'station_nbr' has type Integral\n",
      "# 'station_nbr' has value range '20', '1', '10', '16', '13', '9', '8', '12', '17', '11', '4', '18', '6', '7', '14', '3', '15', '2', '19', '5'\n",
      "# 'station_nbr' has value range '20', '1', '10', '16', '13', '9', '8', '12', '17', '11', '4', '18', '6', '7', '14', '3', '15', '2' for at least 90.0% of values\n",
      "# 'station_nbr' has no negative values\n",
      "# 'tmin' has less than 5% missing values\n",
      "# 'tmin' has type Integral\n"
     ]
    },
    {
     "data": {
      "text/plain": [
       "suggestionResult = ConstraintSuggestionResult(Map(tmax -> NumericColumnProfile(tmax,0.9552113233692963,124,Integral,true,Map(Boolean -> 0, Fractional -> 0, Integral -> 19301, Unknown -> 905, String -> 0),None,None,Some(72.15102844412206),Some(114.0),Some(-11.0),Some(1392587.0),Some(19.475529292818884),None), dewpoint -> StandardColumnProfile(dewpoint,1.0,98,String,true,Map(Boolean -> 0, Fractional -> 0, Integral -> 19543, Unknown -> 0, String -> 663),Some(Distribution(Map(45 -> DistributionValue(253,0.012521033356428783), 34 -> DistributionValue(232,0.011481738097594774), 67 -> DistributionValue(505,0.0249925764624369), -19 -> DistributionValue(2,9.898050084133426E-5), -10 -> DistributionValue(5,2.4745125210333564E-4), 12 -> Distr...\n"
      ]
     },
     "metadata": {},
     "output_type": "display_data",
     "source": "user"
    },
    {
     "data": {
      "text/plain": [
       "ConstraintSuggestionResult(Map(tmax -> NumericColumnProfile(tmax,0.9552113233692963,124,Integral,true,Map(Boolean -> 0, Fractional -> 0, Integral -> 19301, Unknown -> 905, String -> 0),None,None,Some(72.15102844412206),Some(114.0),Some(-11.0),Some(1392587.0),Some(19.475529292818884),None), dewpoint -> StandardColumnProfile(dewpoint,1.0,98,String,true,Map(Boolean -> 0, Fractional -> 0, Integral -> 19543, Unknown -> 0, String -> 663),Some(Distribution(Map(45 -> DistributionValue(253,0.012521033356428783), 34 -> DistributionValue(232,0.011481738097594774), 67 -> DistributionValue(505,0.0249925764624369), -19 -> DistributionValue(2,9.898050084133426E-5), -10 -> DistributionValue(5,2.4745125210333564E-4), 12 -> Distr..."
      ]
     },
     "execution_count": 36,
     "metadata": {},
     "output_type": "execute_result"
    }
   ],
   "source": [
    "val suggestionResult = ConstraintSuggestionRunner()\n",
    "  .onData(df)\n",
    "  .addConstraintRules(Rules.DEFAULT)\n",
    "  .run()\n",
    "\n",
    "suggestionResult.constraintSuggestions.foreach { case (column, suggestions) =>\n",
    "  suggestions.foreach { suggestion =>\n",
    "    println(s\"# ${suggestion.description}\" \n",
    "      //s\"The corresponding scala code is ${suggestion.codeForConstraint}\\n\"\n",
    "      )\n",
    "  }\n",
    "}\n"
   ]
  },
  {
   "cell_type": "markdown",
   "metadata": {},
   "source": [
    "## Show Histograms of Low-Cardinality Columns\n",
    "\n",
    "In addition to the above insights, you can also look at potential skewness in the data by looking data histogram values."
   ]
  },
  {
   "cell_type": "code",
   "execution_count": 37,
   "metadata": {},
   "outputs": [
    {
     "name": "stdout",
     "output_type": "stream",
     "text": [
      "Column Name: dewpoint, Distinct Vals: 98\n",
      "                         Value                    Percentage                         Count\t\tPlot                          \n",
      "                             M                         3.281                           663\t\t||                             \n",
      "                            68                         2.801                           566\t\t||                             \n",
      "                            69                         2.638                           533\t\t||                             \n",
      "                            65                         2.578                           521\t\t||                             \n",
      "                            66                         2.514                           508\t\t||                             \n",
      "                            67                         2.499                           505\t\t|                              \n",
      "                            63                         2.425                           490\t\t|                              \n",
      "                            64                         2.351                           475\t\t|                              \n",
      "                            70                         2.311                           467\t\t|                              \n",
      "                            71                         2.232                           451\t\t|                              \n",
      "                            72                         2.113                           427\t\t|                              \n",
      "                            62                         2.108                           426\t\t|                              \n",
      "                            59                         2.108                           426\t\t|                              \n",
      "                            61                         2.059                           416\t\t|                              \n",
      "                            60                          1.98                           400\t\t|                              \n",
      "                            56                         1.895                           383\t\t|                              \n",
      "                            55                         1.895                           383\t\t|                              \n",
      "                            58                         1.801                           364\t\t|                              \n",
      "                            54                         1.796                           363\t\t|                              \n",
      "                            73                         1.792                           362\t\t|                              \n",
      "                            52                         1.757                           355\t\t|                              \n",
      "                            57                         1.693                           342\t\t|                              \n",
      "                            51                         1.673                           338\t\t|                              \n",
      "                            50                         1.623                           328\t\t|                              \n",
      "                            46                         1.584                           320\t\t|                              \n",
      "                            53                         1.524                           308\t\t|                              \n",
      "                            48                         1.475                           298\t\t|                              \n",
      "                            49                          1.43                           289\t\t|                              \n",
      "                            33                         1.311                           265\t\t|                              \n",
      "                            47                         1.307                           264\t\t|                              \n",
      "                            29                         1.302                           263\t\t|                              \n",
      "                            43                         1.292                           261\t\t|                              \n",
      "                            28                         1.287                           260\t\t|                              \n",
      "                            44                         1.282                           259\t\t|                              \n",
      "                            40                         1.272                           257\t\t|                              \n",
      "                            45                         1.252                           253\t\t|                              \n",
      "                            27                         1.242                           251\t\t|                              \n",
      "                            37                         1.237                           250\t\t|                              \n",
      "                            39                         1.217                           246\t\t|                              \n",
      "                            31                         1.213                           245\t\t|                              \n",
      "                            42                         1.213                           245\t\t|                              \n",
      "                            26                         1.208                           244\t\t|                              \n",
      "                            38                         1.183                           239\t\t|                              \n",
      "                            36                         1.173                           237\t\t|                              \n",
      "                            41                         1.168                           236\t\t|                              \n",
      "                            34                         1.148                           232\t\t|                              \n",
      "                            25                         1.128                           228\t\t|                              \n",
      "                            30                         1.114                           225\t\t|                              \n",
      "                            22                         1.094                           221\t\t|                              \n",
      "                            35                         1.089                           220\t\t|                              \n",
      "                            32                         1.069                           216\t\t|                              \n",
      "                            24                         1.039                           210\t\t|                              \n",
      "                            74                         1.034                           209\t\t|                              \n",
      "                            23                         1.005                           203\t\t|                              \n",
      "                            21                         0.955                           193\t\t|                              \n",
      "                            20                         0.767                           155\t\t|                              \n",
      "                            17                         0.678                           137\t\t|                              \n",
      "                            18                         0.653                           132\t\t|                              \n",
      "                            19                         0.619                           125\t\t|                              \n",
      "                            16                         0.544                           110\t\t|                              \n",
      "                            75                         0.525                           106\t\t|                              \n",
      "                            15                          0.52                           105\t\t|                              \n",
      "                            12                          0.51                           103\t\t|                              \n",
      "                            11                           0.5                           101\t\t|                              \n",
      "                            14                          0.48                            97\t\t|                              \n",
      "                            13                         0.386                            78\t\t|                              \n",
      "                            10                         0.346                            70\t\t|                              \n",
      "                             9                         0.327                            66\t\t|                              \n",
      "                             7                         0.317                            64\t\t|                              \n",
      "                             0                         0.302                            61\t\t|                              \n",
      "                             8                         0.292                            59\t\t|                              \n",
      "                             4                         0.282                            57\t\t|                              \n",
      "                             6                         0.262                            53\t\t|                              \n",
      "                             3                         0.233                            47\t\t|                              \n",
      "                             5                         0.178                            36\t\t|                              \n",
      "                             2                         0.178                            36\t\t|                              \n",
      "                             1                         0.168                            34\t\t|                              \n",
      "                            -3                         0.148                            30\t\t|                              \n",
      "                            76                         0.144                            29\t\t|                              \n",
      "                            -1                         0.144                            29\t\t|                              \n",
      "                            -5                         0.134                            27\t\t|                              \n",
      "                            -2                         0.104                            21\t\t|                              \n",
      "                            -7                         0.089                            18\t\t|                              \n",
      "                            -6                         0.084                            17\t\t|                              \n",
      "                            -4                         0.059                            12\t\t|                              \n",
      "                            -8                         0.045                             9\t\t|                              \n",
      "                            -9                         0.035                             7\t\t|                              \n",
      "                           -11                          0.03                             6\t\t|                              \n",
      "                           -10                         0.025                             5\t\t|                              \n",
      "                           -13                         0.025                             5\t\t|                              \n",
      "                           -12                         0.025                             5\t\t|                              \n",
      "                           -15                          0.02                             4\t\t|                              \n",
      "                           -14                          0.02                             4\t\t|                              \n",
      "                           -19                          0.01                             2\t\t|                              \n",
      "                            77                          0.01                             2\t\t|                              \n",
      "                           -16                         0.005                             1\t\t|                              \n",
      "                           -24                         0.005                             1\t\t|                              \n",
      "                           -17                         0.005                             1\t\t|                              \n",
      "\n",
      "\n",
      "Column Name: resultdir, Distinct Vals: 38\n",
      "                         Value                    Percentage                         Count\t\tPlot                          \n",
      "                            17                         7.369                          1489\t\t||                             \n",
      "                            18                          6.35                          1283\t\t||                             \n",
      "                            16                         5.978                          1208\t\t||                             \n",
      "                            15                         4.429                           895\t\t||                             \n",
      "                            19                         4.172                           843\t\t||                             \n",
      "                            14                         3.256                           658\t\t||                             \n",
      "                            01                         3.083                           623\t\t||                             \n",
      "                            20                         3.019                           610\t\t||                             \n",
      "                            36                         2.999                           606\t\t||                             \n",
      "                            02                         2.915                           589\t\t||                             \n",
      "                             M                          2.91                           588\t\t||                             \n",
      "                            21                         2.752                           556\t\t||                             \n",
      "                            31                         2.638                           533\t\t||                             \n",
      "                            35                         2.598                           525\t\t||                             \n",
      "                            13                         2.504                           506\t\t||                             \n",
      "                            22                          2.41                           487\t\t|                              \n",
      "                            32                          2.41                           487\t\t|                              \n",
      "                            30                          2.41                           487\t\t|                              \n",
      "                            03                         2.296                           464\t\t|                              \n",
      "                            28                         2.267                           458\t\t|                              \n",
      "                            23                         2.252                           455\t\t|                              \n",
      "                            33                         2.232                           451\t\t|                              \n",
      "                            34                         2.153                           435\t\t|                              \n",
      "                            29                         2.128                           430\t\t|                              \n",
      "                            12                         2.024                           409\t\t|                              \n",
      "                            05                         1.965                           397\t\t|                              \n",
      "                            04                         1.945                           393\t\t|                              \n",
      "                            24                          1.94                           392\t\t|                              \n",
      "                            27                          1.91                           386\t\t|                              \n",
      "                            25                         1.876                           379\t\t|                              \n",
      "                            11                         1.762                           356\t\t|                              \n",
      "                            26                         1.752                           354\t\t|                              \n",
      "                            07                         1.623                           328\t\t|                              \n",
      "                            06                         1.549                           313\t\t|                              \n",
      "                            10                          1.48                           299\t\t|                              \n",
      "                            09                         1.331                           269\t\t|                              \n",
      "                            08                         1.311                           265\t\t|                              \n",
      "\n",
      "\n",
      "Column Name: snowfall, Distinct Vals: 79\n",
      "                         Value                    Percentage                         Count\t\tPlot                          \n",
      "                           0.0                        62.768                         12683\t\t||||||||||||||                 \n",
      "                             M                        35.752                          7224\t\t||||||||                       \n",
      "                           0.2                         0.158                            32\t\t|                              \n",
      "                           0.1                         0.153                            31\t\t|                              \n",
      "                           0.5                         0.099                            20\t\t|                              \n",
      "                           0.3                         0.089                            18\t\t|                              \n",
      "                           1.0                         0.069                            14\t\t|                              \n",
      "                           0.4                         0.064                            13\t\t|                              \n",
      "                           0.6                         0.059                            12\t\t|                              \n",
      "                           0.9                         0.054                            11\t\t|                              \n",
      "                           0.8                         0.049                            10\t\t|                              \n",
      "                           0.7                         0.045                             9\t\t|                              \n",
      "                           1.2                         0.035                             7\t\t|                              \n",
      "                           2.0                         0.035                             7\t\t|                              \n",
      "                           4.3                          0.03                             6\t\t|                              \n",
      "                           2.4                         0.025                             5\t\t|                              \n",
      "                           1.5                         0.025                             5\t\t|                              \n",
      "                           1.8                         0.025                             5\t\t|                              \n",
      "                           2.3                          0.02                             4\t\t|                              \n",
      "                           1.1                          0.02                             4\t\t|                              \n",
      "                           1.6                          0.02                             4\t\t|                              \n",
      "                           1.4                          0.02                             4\t\t|                              \n",
      "                           1.7                          0.02                             4\t\t|                              \n",
      "                           4.2                         0.015                             3\t\t|                              \n",
      "                           2.6                         0.015                             3\t\t|                              \n",
      "                           1.3                         0.015                             3\t\t|                              \n",
      "                           2.2                         0.015                             3\t\t|                              \n",
      "                           1.9                          0.01                             2\t\t|                              \n",
      "                           3.7                          0.01                             2\t\t|                              \n",
      "                           7.8                          0.01                             2\t\t|                              \n",
      "                           3.1                          0.01                             2\t\t|                              \n",
      "                           6.7                          0.01                             2\t\t|                              \n",
      "                           3.4                          0.01                             2\t\t|                              \n",
      "                           3.0                          0.01                             2\t\t|                              \n",
      "                           2.7                          0.01                             2\t\t|                              \n",
      "                          12.2                          0.01                             2\t\t|                              \n",
      "                           6.1                          0.01                             2\t\t|                              \n",
      "                           3.2                          0.01                             2\t\t|                              \n",
      "                           2.5                          0.01                             2\t\t|                              \n",
      "                           4.7                          0.01                             2\t\t|                              \n",
      "                           5.2                         0.005                             1\t\t|                              \n",
      "                           2.8                         0.005                             1\t\t|                              \n",
      "                           4.4                         0.005                             1\t\t|                              \n",
      "                           6.4                         0.005                             1\t\t|                              \n",
      "                          13.5                         0.005                             1\t\t|                              \n",
      "                           3.9                         0.005                             1\t\t|                              \n",
      "                           8.0                         0.005                             1\t\t|                              \n",
      "                           4.1                         0.005                             1\t\t|                              \n",
      "                           7.2                         0.005                             1\t\t|                              \n",
      "                           4.9                         0.005                             1\t\t|                              \n",
      "                           3.8                         0.005                             1\t\t|                              \n",
      "                           3.5                         0.005                             1\t\t|                              \n",
      "                           5.7                         0.005                             1\t\t|                              \n",
      "                           4.6                         0.005                             1\t\t|                              \n",
      "                          14.9                         0.005                             1\t\t|                              \n",
      "                          11.0                         0.005                             1\t\t|                              \n",
      "                           4.0                         0.005                             1\t\t|                              \n",
      "                           3.3                         0.005                             1\t\t|                              \n",
      "                          13.1                         0.005                             1\t\t|                              \n",
      "                           2.9                         0.005                             1\t\t|                              \n",
      "                          16.2                         0.005                             1\t\t|                              \n",
      "                           7.1                         0.005                             1\t\t|                              \n",
      "                           2.1                         0.005                             1\t\t|                              \n",
      "                           5.1                         0.005                             1\t\t|                              \n",
      "                          15.2                         0.005                             1\t\t|                              \n",
      "                           5.5                         0.005                             1\t\t|                              \n",
      "                           5.8                         0.005                             1\t\t|                              \n",
      "                           3.6                         0.005                             1\t\t|                              \n",
      "                           6.2                         0.005                             1\t\t|                              \n",
      "                           9.3                         0.005                             1\t\t|                              \n",
      "                           7.0                         0.005                             1\t\t|                              \n",
      "                           5.0                         0.005                             1\t\t|                              \n",
      "                           6.6                         0.005                             1\t\t|                              \n",
      "                          10.5                         0.005                             1\t\t|                              \n",
      "                           7.7                         0.005                             1\t\t|                              \n",
      "                           5.4                         0.005                             1\t\t|                              \n",
      "\n",
      "\n",
      "Column Name: cool, Distinct Vals: 38\n",
      "                         Value                    Percentage                         Count\t\tPlot                          \n",
      "                             0                        47.189                          9535\t\t||||||||||                     \n",
      "                             M                         7.245                          1464\t\t||                             \n",
      "                            18                         2.321                           469\t\t|                              \n",
      "                            16                         2.123                           429\t\t|                              \n",
      "                            17                         2.084                           421\t\t|                              \n",
      "                            14                         2.069                           418\t\t|                              \n",
      "                             8                         2.039                           412\t\t|                              \n",
      "                             7                         2.034                           411\t\t|                              \n",
      "                            15                         1.999                           404\t\t|                              \n",
      "                             4                         1.999                           404\t\t|                              \n",
      "                             6                          1.99                           402\t\t|                              \n",
      "                             3                         1.985                           401\t\t|                              \n",
      "                             5                         1.975                           399\t\t|                              \n",
      "                            10                          1.97                           398\t\t|                              \n",
      "                             2                         1.945                           393\t\t|                              \n",
      "                            19                         1.925                           389\t\t|                              \n",
      "                             9                         1.925                           389\t\t|                              \n",
      "                             1                         1.876                           379\t\t|                              \n",
      "                            13                         1.826                           369\t\t|                              \n",
      "                            11                         1.792                           362\t\t|                              \n",
      "                            12                         1.777                           359\t\t|                              \n",
      "                            20                         1.683                           340\t\t|                              \n",
      "                            21                         1.475                           298\t\t|                              \n",
      "                            22                         1.252                           253\t\t|                              \n",
      "                            23                         1.064                           215\t\t|                              \n",
      "                            24                         0.807                           163\t\t|                              \n",
      "                            25                         0.614                           124\t\t|                              \n",
      "                            26                         0.361                            73\t\t|                              \n",
      "                            27                         0.252                            51\t\t|                              \n",
      "                            28                         0.153                            31\t\t|                              \n",
      "                            29                         0.129                            26\t\t|                              \n",
      "                            30                         0.045                             9\t\t|                              \n",
      "                            31                         0.025                             5\t\t|                              \n",
      "                            34                          0.02                             4\t\t|                              \n",
      "                            33                         0.015                             3\t\t|                              \n",
      "                            32                         0.015                             3\t\t|                              \n",
      "                            35                         0.005                             1\t\t|                              \n",
      "\n",
      "\n",
      "Column Name: depart, Distinct Vals: 64\n",
      "                         Value                    Percentage                         Count\t\tPlot                          \n",
      "                             M                        56.731                         11463\t\t||||||||||||                   \n",
      "                             3                         2.737                           553\t\t||                             \n",
      "                             4                         2.603                           526\t\t||                             \n",
      "                             1                         2.534                           512\t\t||                             \n",
      "                             2                         2.499                           505\t\t|                              \n",
      "                             0                         2.455                           496\t\t|                              \n",
      "                            -2                         2.286                           462\t\t|                              \n",
      "                            -1                         2.277                           460\t\t|                              \n",
      "                             5                         2.138                           432\t\t|                              \n",
      "                             6                          1.92                           388\t\t|                              \n",
      "                            -3                          1.92                           388\t\t|                              \n",
      "                            -4                         1.623                           328\t\t|                              \n",
      "                             7                         1.603                           324\t\t|                              \n",
      "                             8                         1.603                           324\t\t|                              \n",
      "                            -5                         1.371                           277\t\t|                              \n",
      "                            -6                         1.257                           254\t\t|                              \n",
      "                             9                         1.183                           239\t\t|                              \n",
      "                            10                         1.079                           218\t\t|                              \n",
      "                            -7                          1.01                           204\t\t|                              \n",
      "                            11                         0.901                           182\t\t|                              \n",
      "                            -8                         0.777                           157\t\t|                              \n",
      "                            12                         0.688                           139\t\t|                              \n",
      "                            -9                         0.658                           133\t\t|                              \n",
      "                            13                         0.589                           119\t\t|                              \n",
      "                           -10                         0.579                           117\t\t|                              \n",
      "                            14                         0.544                           110\t\t|                              \n",
      "                           -11                         0.495                           100\t\t|                              \n",
      "                            15                         0.436                            88\t\t|                              \n",
      "                           -12                         0.411                            83\t\t|                              \n",
      "                            16                         0.371                            75\t\t|                              \n",
      "                           -13                         0.341                            69\t\t|                              \n",
      "                           -14                         0.302                            61\t\t|                              \n",
      "                           -15                         0.252                            51\t\t|                              \n",
      "                            17                         0.238                            48\t\t|                              \n",
      "                           -16                         0.208                            42\t\t|                              \n",
      "                           -17                         0.193                            39\t\t|                              \n",
      "                            18                         0.178                            36\t\t|                              \n",
      "                           -18                         0.129                            26\t\t|                              \n",
      "                            19                         0.124                            25\t\t|                              \n",
      "                            20                         0.119                            24\t\t|                              \n",
      "                            21                         0.089                            18\t\t|                              \n",
      "                            22                         0.084                            17\t\t|                              \n",
      "                           -19                         0.074                            15\t\t|                              \n",
      "                           -20                         0.059                            12\t\t|                              \n",
      "                            25                         0.045                             9\t\t|                              \n",
      "                            24                          0.04                             8\t\t|                              \n",
      "                           -21                         0.035                             7\t\t|                              \n",
      "                            28                          0.03                             6\t\t|                              \n",
      "                            23                         0.025                             5\t\t|                              \n",
      "                            26                          0.02                             4\t\t|                              \n",
      "                            27                          0.02                             4\t\t|                              \n",
      "                           -22                          0.02                             4\t\t|                              \n",
      "                           -26                         0.015                             3\t\t|                              \n",
      "                            31                         0.015                             3\t\t|                              \n",
      "                           -25                          0.01                             2\t\t|                              \n",
      "                           -24                          0.01                             2\t\t|                              \n",
      "                            29                          0.01                             2\t\t|                              \n",
      "                           -32                         0.005                             1\t\t|                              \n",
      "                           -31                         0.005                             1\t\t|                              \n",
      "                            33                         0.005                             1\t\t|                              \n",
      "                           -27                         0.005                             1\t\t|                              \n",
      "                            32                         0.005                             1\t\t|                              \n",
      "                           -28                         0.005                             1\t\t|                              \n",
      "                           -23                         0.005                             1\t\t|                              \n",
      "                            30                         0.005                             1\t\t|                              \n",
      "\n",
      "\n",
      "Column Name: heat, Distinct Vals: 78\n",
      "                         Value                    Percentage                         Count\t\tPlot                          \n",
      "                             0                        47.328                          9563\t\t||||||||||                     \n",
      "                             M                         7.245                          1464\t\t||                             \n",
      "                             1                         1.727                           349\t\t|                              \n",
      "                             2                         1.658                           335\t\t|                              \n",
      "                             8                         1.544                           312\t\t|                              \n",
      "                            12                         1.529                           309\t\t|                              \n",
      "                             7                         1.514                           306\t\t|                              \n",
      "                            10                         1.495                           302\t\t|                              \n",
      "                             4                          1.46                           295\t\t|                              \n",
      "                             5                          1.45                           293\t\t|                              \n",
      "                             3                          1.45                           293\t\t|                              \n",
      "                            11                          1.41                           285\t\t|                              \n",
      "                             9                         1.371                           277\t\t|                              \n",
      "                             6                         1.366                           276\t\t|                              \n",
      "                            14                         1.336                           270\t\t|                              \n",
      "                            16                         1.257                           254\t\t|                              \n",
      "                            20                         1.257                           254\t\t|                              \n",
      "                            17                         1.252                           253\t\t|                              \n",
      "                            13                         1.193                           241\t\t|                              \n",
      "                            15                         1.188                           240\t\t|                              \n",
      "                            19                         1.148                           232\t\t|                              \n",
      "                            18                         1.079                           218\t\t|                              \n",
      "                            22                         1.015                           205\t\t|                              \n",
      "                            23                          0.98                           198\t\t|                              \n",
      "                            25                         0.925                           187\t\t|                              \n",
      "                            21                         0.911                           184\t\t|                              \n",
      "                            24                         0.871                           176\t\t|                              \n",
      "                            27                         0.861                           174\t\t|                              \n",
      "                            28                         0.836                           169\t\t|                              \n",
      "                            26                         0.787                           159\t\t|                              \n",
      "                            30                         0.762                           154\t\t|                              \n",
      "                            31                         0.718                           145\t\t|                              \n",
      "                            33                         0.688                           139\t\t|                              \n",
      "                            29                         0.688                           139\t\t|                              \n",
      "                            34                         0.663                           134\t\t|                              \n",
      "                            32                         0.619                           125\t\t|                              \n",
      "                            36                         0.495                           100\t\t|                              \n",
      "                            38                          0.49                            99\t\t|                              \n",
      "                            35                         0.485                            98\t\t|                              \n",
      "                            37                          0.46                            93\t\t|                              \n",
      "                            39                         0.431                            87\t\t|                              \n",
      "                            40                         0.381                            77\t\t|                              \n",
      "                            41                         0.346                            70\t\t|                              \n",
      "                            43                         0.302                            61\t\t|                              \n",
      "                            45                         0.262                            53\t\t|                              \n",
      "                            44                         0.252                            51\t\t|                              \n",
      "                            46                         0.247                            50\t\t|                              \n",
      "                            47                         0.233                            47\t\t|                              \n",
      "                            42                         0.223                            45\t\t|                              \n",
      "                            48                         0.198                            40\t\t|                              \n",
      "                            49                         0.188                            38\t\t|                              \n",
      "                            50                         0.163                            33\t\t|                              \n",
      "                            53                         0.163                            33\t\t|                              \n",
      "                            52                         0.139                            28\t\t|                              \n",
      "                            51                         0.119                            24\t\t|                              \n",
      "                            54                         0.119                            24\t\t|                              \n",
      "                            55                         0.114                            23\t\t|                              \n",
      "                            57                         0.079                            16\t\t|                              \n",
      "                            58                         0.079                            16\t\t|                              \n",
      "                            60                         0.064                            13\t\t|                              \n",
      "                            56                         0.059                            12\t\t|                              \n",
      "                            59                         0.049                            10\t\t|                              \n",
      "                            62                          0.03                             6\t\t|                              \n",
      "                            68                          0.03                             6\t\t|                              \n",
      "                            61                          0.03                             6\t\t|                              \n",
      "                            65                          0.03                             6\t\t|                              \n",
      "                            69                         0.025                             5\t\t|                              \n",
      "                            63                         0.025                             5\t\t|                              \n",
      "                            67                          0.02                             4\t\t|                              \n",
      "                            64                          0.02                             4\t\t|                              \n",
      "                            70                          0.02                             4\t\t|                              \n",
      "                            75                         0.015                             3\t\t|                              \n",
      "                            66                          0.01                             2\t\t|                              \n",
      "                            72                          0.01                             2\t\t|                              \n",
      "                            71                          0.01                             2\t\t|                              \n",
      "                            81                         0.005                             1\t\t|                              \n",
      "\n",
      "\n",
      "Column Name: wetbulb, Distinct Vals: 93\n",
      "                         Value                    Percentage                         Count\t\tPlot                          \n",
      "                             M                         6.176                          1248\t\t||                             \n",
      "                            74                         3.845                           777\t\t||                             \n",
      "                            75                         3.385                           684\t\t||                             \n",
      "                            73                         3.281                           663\t\t||                             \n",
      "                            72                         3.014                           609\t\t||                             \n",
      "                            71                         2.603                           526\t\t||                             \n",
      "                            70                          2.38                           481\t\t|                              \n",
      "                            67                         2.336                           472\t\t|                              \n",
      "                            65                         2.272                           459\t\t|                              \n",
      "                            64                         2.158                           436\t\t|                              \n",
      "                            62                         2.143                           433\t\t|                              \n",
      "                            68                         2.113                           427\t\t|                              \n",
      "                            66                         2.098                           424\t\t|                              \n",
      "                            63                         2.084                           421\t\t|                              \n",
      "                            60                         2.069                           418\t\t|                              \n",
      "                            61                         2.024                           409\t\t|                              \n",
      "                            59                         2.019                           408\t\t|                              \n",
      "                            58                         2.004                           405\t\t|                              \n",
      "                            69                          1.97                           398\t\t|                              \n",
      "                            56                         1.895                           383\t\t|                              \n",
      "                            76                         1.792                           362\t\t|                              \n",
      "                            55                         1.752                           354\t\t|                              \n",
      "                            57                         1.702                           344\t\t|                              \n",
      "                            52                         1.658                           335\t\t|                              \n",
      "                            54                         1.633                           330\t\t|                              \n",
      "                            53                         1.603                           324\t\t|                              \n",
      "                            44                         1.599                           323\t\t|                              \n",
      "                            45                         1.519                           307\t\t|                              \n",
      "                            50                         1.509                           305\t\t|                              \n",
      "                            51                           1.5                           303\t\t|                              \n",
      "                            48                          1.46                           295\t\t|                              \n",
      "                            49                         1.455                           294\t\t|                              \n",
      "                            46                         1.425                           288\t\t|                              \n",
      "                            47                         1.341                           271\t\t|                              \n",
      "                            43                         1.336                           270\t\t|                              \n",
      "                            41                         1.307                           264\t\t|                              \n",
      "                            38                         1.302                           263\t\t|                              \n",
      "                            37                         1.287                           260\t\t|                              \n",
      "                            39                         1.232                           249\t\t|                              \n",
      "                            40                         1.227                           248\t\t|                              \n",
      "                            42                         1.203                           243\t\t|                              \n",
      "                            34                         1.153                           233\t\t|                              \n",
      "                            36                         1.143                           231\t\t|                              \n",
      "                            35                         1.133                           229\t\t|                              \n",
      "                            33                         1.029                           208\t\t|                              \n",
      "                            31                         0.975                           197\t\t|                              \n",
      "                            32                          0.96                           194\t\t|                              \n",
      "                            77                          0.93                           188\t\t|                              \n",
      "                            28                         0.866                           175\t\t|                              \n",
      "                            29                         0.836                           169\t\t|                              \n",
      "                            30                         0.817                           165\t\t|                              \n",
      "                            27                         0.737                           149\t\t|                              \n",
      "                            26                         0.653                           132\t\t|                              \n",
      "                            24                          0.51                           103\t\t|                              \n",
      "                            23                         0.495                           100\t\t|                              \n",
      "                            25                         0.485                            98\t\t|                              \n",
      "                            21                         0.401                            81\t\t|                              \n",
      "                            78                         0.396                            80\t\t|                              \n",
      "                            22                         0.351                            71\t\t|                              \n",
      "                            20                         0.317                            64\t\t|                              \n",
      "                            19                         0.292                            59\t\t|                              \n",
      "                            18                         0.292                            59\t\t|                              \n",
      "                            14                         0.287                            58\t\t|                              \n",
      "                            17                         0.243                            49\t\t|                              \n",
      "                            15                         0.233                            47\t\t|                              \n",
      "                            16                         0.223                            45\t\t|                              \n",
      "                            12                         0.188                            38\t\t|                              \n",
      "                            13                         0.168                            34\t\t|                              \n",
      "                            10                         0.168                            34\t\t|                              \n",
      "                             8                         0.139                            28\t\t|                              \n",
      "                            11                         0.139                            28\t\t|                              \n",
      "                            79                         0.104                            21\t\t|                              \n",
      "                             4                         0.089                            18\t\t|                              \n",
      "                             7                         0.074                            15\t\t|                              \n",
      "                             9                         0.069                            14\t\t|                              \n",
      "                             0                         0.064                            13\t\t|                              \n",
      "                             5                         0.049                            10\t\t|                              \n",
      "                             3                         0.049                            10\t\t|                              \n",
      "                             6                         0.045                             9\t\t|                              \n",
      "                            -3                         0.035                             7\t\t|                              \n",
      "                             2                          0.03                             6\t\t|                              \n",
      "                            -4                          0.02                             4\t\t|                              \n",
      "                             1                          0.02                             4\t\t|                              \n",
      "                            -2                         0.015                             3\t\t|                              \n",
      "                            -5                         0.015                             3\t\t|                              \n",
      "                            -7                          0.01                             2\t\t|                              \n",
      "                            -6                          0.01                             2\t\t|                              \n",
      "                           -10                         0.005                             1\t\t|                              \n",
      "                           -15                         0.005                             1\t\t|                              \n",
      "                            -8                         0.005                             1\t\t|                              \n",
      "                            80                         0.005                             1\t\t|                              \n",
      "                            -9                         0.005                             1\t\t|                              \n",
      "                            -1                         0.005                             1\t\t|                              \n",
      "\n",
      "\n",
      "Column Name: station_nbr, Distinct Vals: 20\n",
      "                         Value                    Percentage                         Count\t\tPlot                          \n",
      "                            12                         5.122                          1035\t\t||                             \n",
      "                             8                         5.122                          1035\t\t||                             \n",
      "                             9                         5.122                          1035\t\t||                             \n",
      "                            13                         5.122                          1035\t\t||                             \n",
      "                            16                         5.122                          1035\t\t||                             \n",
      "                            10                         5.122                          1035\t\t||                             \n",
      "                             1                         5.122                          1035\t\t||                             \n",
      "                            20                         5.122                          1035\t\t||                             \n",
      "                            11                         5.117                          1034\t\t||                             \n",
      "                            17                         5.117                          1034\t\t||                             \n",
      "                             4                         5.083                          1027\t\t||                             \n",
      "                            18                         5.073                          1025\t\t||                             \n",
      "                             6                         5.053                          1021\t\t||                             \n",
      "                             7                         5.043                          1019\t\t||                             \n",
      "                            14                         4.979                          1006\t\t||                             \n",
      "                             3                         4.959                          1002\t\t||                             \n",
      "                            15                         4.865                           983\t\t||                             \n",
      "                             2                         4.796                           969\t\t||                             \n",
      "                            19                         4.721                           954\t\t||                             \n",
      "                             5                         4.217                           852\t\t||                             \n",
      "\n",
      "\n"
     ]
    }
   ],
   "source": [
    "// Show Histograms of Low-Cardinality Columns\n",
    "\n",
    "result.profiles.foreach { case (columnName, profile) =>\n",
    "\n",
    "  val approximateNumDistinctValues = profile.approximateNumDistinctValues\n",
    "  if (!profile.histogram.isEmpty) {\n",
    "    println(\"Column Name: \" + columnName + \", Distinct Vals: \" + approximateNumDistinctValues)\n",
    "        println(s\"\"+String.format(\"%1$\"+30+ \"s\", \"Value\") +  String.format(\"%1$\"+30+ \"s\", \"Percentage\") +  String.format(\"%1$\"+30+ \"s\", \"Count\") +\"\\t\\t\"+ String.format(\"%1$-\"+30+ \"s\", \"Plot\"))\n",
    "    profile.histogram.foreach {\n",
    "      _.values.toSeq.sortBy(x=>(x._2.absolute*(-1))).foreach { case (key, entry) =>\n",
    "        val percentage = (entry.ratio * 100000).round/1000.toDouble\n",
    "        val plotString = (\"|\"*(entry.ratio*20).round.toInt)\n",
    "        println(s\"\"+String.format(\"%1$\"+30+ \"s\", key) +  String.format(\"%1$\"+30+ \"s\", percentage.toString) +  String.format(\"%1$\"+30+ \"s\", entry.absolute.toString) +\"\\t\\t|\"+ String.format(\"%1$-\"+30+ \"s\", plotString))\n",
    "      }\n",
    "    }\n",
    "    println(\"\\n\")\n",
    "  }\n",
    "}"
   ]
  },
  {
   "cell_type": "markdown",
   "metadata": {},
   "source": [
    "## Spark StructType code proposed by the Data Profiler "
   ]
  },
  {
   "cell_type": "code",
   "execution_count": 38,
   "metadata": {},
   "outputs": [
    {
     "name": "stdout",
     "output_type": "stream",
     "text": [
      "val proposedSchema = new StructType(Array( \n",
      "\tStructField(\"station_nbr\", IntegerType, false), \n",
      "\tStructField(\"date\", StringType, false), \n",
      "\tStructField(\"tmax\", IntegerType, true), \n",
      "\tStructField(\"tmin\", IntegerType, true), \n",
      "\tStructField(\"tavg\", IntegerType, true), \n",
      "\tStructField(\"depart\", StringType, false), \n",
      "\tStructField(\"dewpoint\", StringType, false), \n",
      "\tStructField(\"wetbulb\", StringType, false), \n",
      "\tStructField(\"heat\", StringType, false), \n",
      "\tStructField(\"cool\", StringType, false), \n",
      "\tStructField(\"sunrise\", IntegerType, false), \n",
      "\tStructField(\"sunset\", IntegerType, false), \n",
      "\tStructField(\"codesum\", StringType, false), \n",
      "\tStructField(\"snowfall\", StringType, false), \n",
      "\tStructField(\"preciptotal\", StringType, false), \n",
      "\tStructField(\"stnpressure\", StringType, false), \n",
      "\tStructField(\"sealevel\", StringType, false), \n",
      "\tStructField(\"resultspeed\", StringType, false), \n",
      "\tStructField(\"resultdir\", StringType, false), \n",
      "\tStructField(\"avgspeed\", StringType, false)\n",
      "))\n",
      "\n"
     ]
    },
    {
     "data": {
      "text/plain": [
       "proposedSchemaText = \n"
      ]
     },
     "metadata": {},
     "output_type": "display_data",
     "source": "user"
    },
    {
     "data": {
      "text/plain": [
       "val proposedSchema = new StructType(Array(\n",
       "\tStructField(\"station_nbr\", IntegerType, false),\n",
       "\tStructField(\"date\", StringType, false),\n",
       "\tStructField(\"tmax\", IntegerType, true),\n",
       "\tStructField(\"tmin\", IntegerType, true),\n",
       "\tStructField(\"tavg\", IntegerType, true),\n",
       "\tStructField(\"depart\", StringType, false),\n",
       "\tStructField(\"dewpoint\", StringType, false),\n",
       "\tStructField(\"wetbulb\", StringType, false),\n",
       "\tStructField(\"heat\", StringType, false),\n",
       "\tStructField(\"cool\", StringType, false),\n",
       "\tStructField(\"sunrise\", IntegerType, false),\n",
       "\tStructField(\"sunset\", IntegerType, false),\n",
       "\tStructField(\"codesum\", StringType, false),\n",
       "\tStructField(\"snowfall\", StringType, false),\n",
       "\tStructField(\"preciptotal\", StringType, false),\n",
       "\tStructField(\"stnpressure\", StringType, false),\n",
       "\tStructField(\"sealevel\",...\n"
      ]
     },
     "metadata": {},
     "output_type": "display_data",
     "source": "user"
    }
   ],
   "source": [
    "// Proposed Schema\n",
    "\n",
    "    var proposedSchemaText = \"val proposedSchema = new StructType(Array( \\n\"\n",
    "\n",
    "    df.schema.foreach { originalColScehma =>\n",
    "      val columnName = originalColScehma.name\n",
    "      val profile = result.profiles(columnName)\n",
    "      val completeness = profile.completeness;\n",
    "      val dataType = profile.dataType.toString\n",
    "      val isNullable = (completeness<1.0);\n",
    "\n",
    "      if(dataType.equalsIgnoreCase(\"Integral\")){\n",
    "        proposedSchemaText += \"\\tStructField(\\\"\" +columnName +\"\\\", IntegerType, \"+isNullable+\"), \\n\"\n",
    "      }else if(dataType.equalsIgnoreCase(\"Fractional\")){\n",
    "        proposedSchemaText += \"\\tStructField(\\\"\" +columnName +\"\\\", DoubleType, \"+isNullable+\"), \\n\"\n",
    "      }else{\n",
    "        proposedSchemaText += \"\\tStructField(\\\"\" +columnName +\"\\\", StringType, \"+isNullable+\"), \\n\"\n",
    "      }\n",
    "    }\n",
    "\n",
    "    proposedSchemaText =proposedSchemaText.dropRight(3)+\"\\n))\"\n",
    "    println(proposedSchemaText+\"\\n\")"
   ]
  },
  {
   "cell_type": "code",
   "execution_count": null,
   "metadata": {},
   "outputs": [],
   "source": []
  }
 ],
 "metadata": {
  "kernelspec": {
   "display_name": "Apache Toree - Scala",
   "language": "scala",
   "name": "apache_toree_scala"
  },
  "language_info": {
   "codemirror_mode": "text/x-scala",
   "file_extension": ".scala",
   "mimetype": "text/x-scala",
   "name": "scala",
   "pygments_lexer": "scala",
   "version": "2.11.12"
  }
 },
 "nbformat": 4,
 "nbformat_minor": 4
}
